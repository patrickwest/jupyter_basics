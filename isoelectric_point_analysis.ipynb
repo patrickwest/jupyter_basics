{
 "cells": [
  {
   "cell_type": "code",
   "execution_count": 29,
   "metadata": {},
   "outputs": [],
   "source": [
    "%matplotlib inline\n",
    "import matplotlib.pyplot as plt\n",
    "plt.style.use('seaborn-whitegrid')\n",
    "import seaborn as sns; sns.set(color_codes=True)\n",
    "import numpy as np\n",
    "import glob\n",
    "import pandas as pd\n",
    "sns.set_style('whitegrid')\n",
    "from scipy.stats import ranksums\n",
    "from scipy.stats import ttest_ind"
   ]
  },
  {
   "cell_type": "markdown",
   "metadata": {},
   "source": [
    "# Compare isoelectric points of secreted and non-secreted proteins forom three different choanoflagellate genomes"
   ]
  },
  {
   "cell_type": "markdown",
   "metadata": {},
   "source": [
    "# Import Data"
   ]
  },
  {
   "cell_type": "code",
   "execution_count": 18,
   "metadata": {},
   "outputs": [],
   "source": [
    "def parse_ip(filename):\n",
    "    fh = open(filename)\n",
    "    ips_dict = {}\n",
    "    for line in fh:\n",
    "        if line.startswith('>'):\n",
    "            name = line.strip()\n",
    "            ip = next(fh)\n",
    "            ips = ip.strip().split()\n",
    "            avg = float(ips[17])\n",
    "        \n",
    "            ips_dict[name] = avg\n",
    "    return ips_dict"
   ]
  },
  {
   "cell_type": "code",
   "execution_count": 19,
   "metadata": {},
   "outputs": [],
   "source": [
    "secreted_ip = parse_ip('/home/pwest/mono_lake/euk_binning/NKKH001C_out/clusters/merged_2/merged_scaffolds.maker.output/merged_scaffolds.all.maker.proteins.secreted.fasta.pI.txt')\n",
    "nonsecreted_ip = parse_ip('/home/pwest/mono_lake/euk_binning/NKKH001C_out/clusters/merged_2/merged_scaffolds.maker.output/merged_scaffolds.all.maker.proteins.nonsecreted.fasta.pI.txt')"
   ]
  },
  {
   "cell_type": "code",
   "execution_count": 21,
   "metadata": {},
   "outputs": [],
   "source": [
    "secreted_ip_df = pd.DataFrame.from_dict(secreted_ip, orient='index')\n",
    "nonsecreted_ip_df = pd.DataFrame.from_dict(nonsecreted_ip, orient='index')"
   ]
  },
  {
   "cell_type": "code",
   "execution_count": 26,
   "metadata": {},
   "outputs": [],
   "source": [
    "ros_secreted_ip = parse_ip('/home/pwest/mono_lake/choana_genomes/GCF_000188695.1_Proterospongia_sp_ATCC50818_protein.secreted.faa.pI.txt')\n",
    "ros_nonsecreted_ip = parse_ip('/home/pwest/mono_lake/choana_genomes/GCF_000188695.1_Proterospongia_sp_ATCC50818_protein.nonsecreted.faa.pI.txt')\n",
    "brev_secreted_ip = parse_ip('/home/pwest/mono_lake/choana_genomes/GCF_000002865.3_V1.0_protein.secreted.faa.pI.txt')\n",
    "brev_nonsecreted_ip = parse_ip('/home/pwest/mono_lake/choana_genomes/GCF_000002865.3_V1.0_protein.nonsecreted.faa.pI.txt')"
   ]
  },
  {
   "cell_type": "code",
   "execution_count": 27,
   "metadata": {},
   "outputs": [],
   "source": [
    "ros_secreted_ip_df = pd.DataFrame.from_dict(ros_secreted_ip, orient='index')\n",
    "ros_nonsecreted_ip_df = pd.DataFrame.from_dict(ros_nonsecreted_ip, orient='index')\n",
    "brev_secreted_ip_df = pd.DataFrame.from_dict(brev_secreted_ip, orient='index')\n",
    "brev_nonsecreted_ip_df = pd.DataFrame.from_dict(brev_nonsecreted_ip, orient='index')"
   ]
  },
  {
   "cell_type": "markdown",
   "metadata": {},
   "source": [
    "# Protein set average isolectric point and statistical tests"
   ]
  },
  {
   "cell_type": "code",
   "execution_count": 28,
   "metadata": {},
   "outputs": [
    {
     "name": "stdout",
     "output_type": "stream",
     "text": [
      "Monosierra average Ip:\n",
      "secreted: 6.22339676113\n",
      "nonsecreted: 6.95289897304\n",
      "Rosetta average Ip:\n",
      "secreted: 5.93708954101\n",
      "nonsecreted: 7.023338781\n",
      "Brevicollis average Ip:\n",
      "secreted: 5.92461051883\n",
      "nonsecreted: 6.92009184197\n"
     ]
    }
   ],
   "source": [
    "print('Monosierra average Ip:')\n",
    "print('secreted: ' + str(np.mean(secreted_ip_df[0])))\n",
    "print('nonsecreted: ' + str(np.mean(nonsecreted_ip_df[0])))\n",
    "print('Rosetta average Ip:')\n",
    "print('secreted: ' + str(np.mean(ros_secreted_ip_df[0])))\n",
    "print('nonsecreted: ' + str(np.mean(ros_nonsecreted_ip_df[0])))\n",
    "print('Brevicollis average Ip:')\n",
    "print('secreted: ' + str(np.mean(brev_secreted_ip_df[0])))\n",
    "print('nonsecreted: ' + str(np.mean(brev_nonsecreted_ip_df[0])))"
   ]
  },
  {
   "cell_type": "code",
   "execution_count": 31,
   "metadata": {},
   "outputs": [
    {
     "data": {
      "text/plain": [
       "RanksumsResult(statistic=4.5093432415333199, pvalue=6.5028624081889384e-06)"
      ]
     },
     "execution_count": 31,
     "metadata": {},
     "output_type": "execute_result"
    }
   ],
   "source": [
    "ranksums(secreted_ip_df[0], ros_secreted_ip_df[0])"
   ]
  },
  {
   "cell_type": "code",
   "execution_count": 32,
   "metadata": {},
   "outputs": [
    {
     "data": {
      "text/plain": [
       "RanksumsResult(statistic=4.8242515640517887, pvalue=1.4052995813811172e-06)"
      ]
     },
     "execution_count": 32,
     "metadata": {},
     "output_type": "execute_result"
    }
   ],
   "source": [
    "ranksums(secreted_ip_df[0], brev_secreted_ip_df[0])"
   ]
  },
  {
   "cell_type": "code",
   "execution_count": 33,
   "metadata": {},
   "outputs": [
    {
     "data": {
      "text/plain": [
       "RanksumsResult(statistic=-0.068565703840055614, pvalue=0.94533531896499423)"
      ]
     },
     "execution_count": 33,
     "metadata": {},
     "output_type": "execute_result"
    }
   ],
   "source": [
    "ranksums(ros_secreted_ip_df[0], brev_secreted_ip_df[0])"
   ]
  },
  {
   "cell_type": "code",
   "execution_count": 35,
   "metadata": {},
   "outputs": [
    {
     "data": {
      "text/plain": [
       "Ttest_indResult(statistic=3.3451353445647265, pvalue=0.00083912674902750564)"
      ]
     },
     "execution_count": 35,
     "metadata": {},
     "output_type": "execute_result"
    }
   ],
   "source": [
    "ttest_ind(secreted_ip_df[0], ros_secreted_ip_df[0])"
   ]
  },
  {
   "cell_type": "code",
   "execution_count": 36,
   "metadata": {},
   "outputs": [
    {
     "data": {
      "text/plain": [
       "Ttest_indResult(statistic=3.5722848962270453, pvalue=0.00036269810289522527)"
      ]
     },
     "execution_count": 36,
     "metadata": {},
     "output_type": "execute_result"
    }
   ],
   "source": [
    "ttest_ind(secreted_ip_df[0], brev_secreted_ip_df[0])"
   ]
  },
  {
   "cell_type": "code",
   "execution_count": 37,
   "metadata": {},
   "outputs": [
    {
     "data": {
      "text/plain": [
       "Ttest_indResult(statistic=0.19901475889316414, pvalue=0.84226599800136615)"
      ]
     },
     "execution_count": 37,
     "metadata": {},
     "output_type": "execute_result"
    }
   ],
   "source": [
    "ttest_ind(ros_secreted_ip_df[0], brev_secreted_ip_df[0])"
   ]
  },
  {
   "cell_type": "markdown",
   "metadata": {},
   "source": [
    "# Plotting "
   ]
  },
  {
   "cell_type": "code",
   "execution_count": 48,
   "metadata": {},
   "outputs": [],
   "source": [
    "secreted_ip_df['secreted'] = 'Y'\n",
    "secreted_ip_df['organism'] = 'S. monosierra'\n",
    "nonsecreted_ip_df['secreted'] = 'N'\n",
    "nonsecreted_ip_df['organism'] = 'S. monosierra'\n",
    "\n",
    "ros_secreted_ip_df['secreted'] = 'Y'\n",
    "ros_secreted_ip_df['organism'] = 'S. rosetta'\n",
    "ros_nonsecreted_ip_df['secreted'] = 'N'\n",
    "ros_nonsecreted_ip_df['organism'] = 'S. rosetta'\n",
    "\n",
    "brev_secreted_ip_df['secreted'] = 'Y'\n",
    "brev_secreted_ip_df['organism'] = 'M. brevicollis'\n",
    "brev_nonsecreted_ip_df['secreted'] = 'N'\n",
    "brev_nonsecreted_ip_df['organism'] = 'M. brevicollis'"
   ]
  },
  {
   "cell_type": "code",
   "execution_count": 49,
   "metadata": {},
   "outputs": [],
   "source": [
    "df = pd.concat([secreted_ip_df, nonsecreted_ip_df, ros_secreted_ip_df, ros_nonsecreted_ip_df, brev_secreted_ip_df, brev_nonsecreted_ip_df])"
   ]
  },
  {
   "cell_type": "code",
   "execution_count": 50,
   "metadata": {},
   "outputs": [],
   "source": [
    "df = df.rename(columns={0:'Ip'})"
   ]
  },
  {
   "cell_type": "code",
   "execution_count": 76,
   "metadata": {},
   "outputs": [
    {
     "data": {
      "image/png": "[encoded data removed]",
      "text/plain": [
       "<matplotlib.figure.Figure at 0x7f5f14d440b8>"
      ]
     },
     "metadata": {},
     "output_type": "display_data"
    }
   ],
   "source": [
    "sns.set_palette(\"Paired\")\n",
    "ax = sns.violinplot(data=df, x='secreted', y='Ip', hue='organism', legend=False)\n",
    "plt.grid(False)\n",
    "plt.savefig('isoelectric_violinplots.pdf')"
   ]
  },
  {
   "cell_type": "code",
   "execution_count": 68,
   "metadata": {},
   "outputs": [
    {
     "data": {
      "image/png": "[encoded data removed]",
      "text/plain": [
       "<matplotlib.figure.Figure at 0x7f5f1474b2b0>"
      ]
     },
     "metadata": {},
     "output_type": "display_data"
    }
   ],
   "source": [
    "ax = sns.boxplot(data=df, x='secreted', y='Ip', hue='organism')\n",
    "plt.legend(loc='best')\n",
    "plt.grid(False)\n",
    "#ax = sns.swarmplot(data=df, x='secreted', y='Ip', hue='organism')"
   ]
  },
  {
   "cell_type": "code",
   "execution_count": 69,
   "metadata": {},
   "outputs": [
    {
     "data": {
      "image/png": "[encoded data removed]",
      "text/plain": [
       "<matplotlib.figure.Figure at 0x7f5f14c53828>"
      ]
     },
     "metadata": {},
     "output_type": "display_data"
    }
   ],
   "source": [
    "ax = sns.barplot(data=df, x='secreted', y='Ip', hue='organism')\n",
    "plt.legend(loc='best')\n",
    "plt.grid(False)"
   ]
  },
  {
   "cell_type": "code",
   "execution_count": 75,
   "metadata": {},
   "outputs": [
    {
     "data": {
      "text/plain": [
       "(array([  2.,   5.,   9.,  12.,  14.,  16.,  21.,  27.,  20.,  26.,  19.,\n",
       "         18.,  22.,  18.,  26.,  23.,  18.,  19.,  22.,   9.,  15.,  11.,\n",
       "         10.,   6.,  11.,   8.,   5.,   8.,   7.,   6.,   8.,   4.,   9.,\n",
       "          4.,   5.,   8.,   5.,   4.,   1.,   2.,   1.,   5.,   1.,   1.,\n",
       "          0.,   0.,   0.,   1.,   0.,   2.]),\n",
       " array([  3.675 ,   3.8294,   3.9838,   4.1382,   4.2926,   4.447 ,\n",
       "          4.6014,   4.7558,   4.9102,   5.0646,   5.219 ,   5.3734,\n",
       "          5.5278,   5.6822,   5.8366,   5.991 ,   6.1454,   6.2998,\n",
       "          6.4542,   6.6086,   6.763 ,   6.9174,   7.0718,   7.2262,\n",
       "          7.3806,   7.535 ,   7.6894,   7.8438,   7.9982,   8.1526,\n",
       "          8.307 ,   8.4614,   8.6158,   8.7702,   8.9246,   9.079 ,\n",
       "          9.2334,   9.3878,   9.5422,   9.6966,   9.851 ,  10.0054,\n",
       "         10.1598,  10.3142,  10.4686,  10.623 ,  10.7774,  10.9318,\n",
       "         11.0862,  11.2406,  11.395 ]),\n",
       " <a list of 50 Patch objects>)"
      ]
     },
     "execution_count": 75,
     "metadata": {},
     "output_type": "execute_result"
    },
    {
     "data": {
      "image/png": "[encoded data removed]",
      "text/plain": [
       "<matplotlib.figure.Figure at 0x7f5f14d44b70>"
      ]
     },
     "metadata": {},
     "output_type": "display_data"
    }
   ],
   "source": [
    "plt.hist(secreted_ip_df[0],bins=50)"
   ]
  },
  {
   "cell_type": "code",
   "execution_count": 74,
   "metadata": {},
   "outputs": [
    {
     "data": {
      "text/plain": [
       "(array([   3.,    1.,    5.,    3.,    5.,    6.,    7.,   22.,   30.,\n",
       "          83.,  158.,  239.,  322.,  334.,  330.,  326.,  340.,  425.,\n",
       "         454.,  481.,  461.,  351.,  255.,  219.,  187.,  181.,  211.,\n",
       "         228.,  236.,  214.,  175.,  160.,  210.,  220.,  178.,  206.,\n",
       "         145.,  100.,   70.,   51.,   33.,   38.,   29.,   20.,   14.,\n",
       "          16.,    3.,    3.,    1.,    1.]),\n",
       " array([  2.084  ,   2.30026,   2.51652,   2.73278,   2.94904,   3.1653 ,\n",
       "          3.38156,   3.59782,   3.81408,   4.03034,   4.2466 ,   4.46286,\n",
       "          4.67912,   4.89538,   5.11164,   5.3279 ,   5.54416,   5.76042,\n",
       "          5.97668,   6.19294,   6.4092 ,   6.62546,   6.84172,   7.05798,\n",
       "          7.27424,   7.4905 ,   7.70676,   7.92302,   8.13928,   8.35554,\n",
       "          8.5718 ,   8.78806,   9.00432,   9.22058,   9.43684,   9.6531 ,\n",
       "          9.86936,  10.08562,  10.30188,  10.51814,  10.7344 ,  10.95066,\n",
       "         11.16692,  11.38318,  11.59944,  11.8157 ,  12.03196,  12.24822,\n",
       "         12.46448,  12.68074,  12.897  ]),\n",
       " <a list of 50 Patch objects>)"
      ]
     },
     "execution_count": 74,
     "metadata": {},
     "output_type": "execute_result"
    },
    {
     "data": {
      "image/png": "[encoded data removed]",
      "text/plain": [
       "<matplotlib.figure.Figure at 0x7f5f14d441d0>"
      ]
     },
     "metadata": {},
     "output_type": "display_data"
    }
   ],
   "source": [
    "plt.hist(nonsecreted_ip_df[0],bins=50)"
   ]
  },
  {
   "cell_type": "code",
   "execution_count": null,
   "metadata": {},
   "outputs": [],
   "source": []
  }
 ],
 "metadata": {
  "kernelspec": {
   "display_name": "Python 3",
   "language": "python",
   "name": "python3"
  },
  "language_info": {
   "codemirror_mode": {
    "name": "ipython",
    "version": 3
   },
   "file_extension": ".py",
   "mimetype": "text/x-python",
   "name": "python",
   "nbconvert_exporter": "python",
   "pygments_lexer": "ipython3",
   "version": "3.8.2"
  }
 },
 "nbformat": 4,
 "nbformat_minor": 4
}
